{
 "cells": [
  {
   "cell_type": "code",
   "execution_count": 1,
   "metadata": {},
   "outputs": [],
   "source": []
  },
  {
   "cell_type": "code",
   "execution_count": 4,
   "metadata": {
    "scrolled": false
   },
   "outputs": [],
   "source": [
    "import string\n",
    "import sys\n",
    "import re\n",
    "from pickle import dump\n",
    "import unicodedata\n",
    "from unicodedata import normalize\n",
    "import numpy\n",
    "\n",
    "import indicnlp\n",
    "INDIC_NLP_LIB_HOME=r\"/home/nitin_grover/Desktop/Neural Machine Translation/English_Hindi/indic_nlp_library\"\n",
    "INDIC_NLP_RESOURCES=r\"/home/nitin_grover/Desktop/Neural Machine Translation/English_Hindi/indic_nlp_resources-master\"\n",
    "sys.path.append(r'{}'.format(INDIC_NLP_LIB_HOME))\n"
   ]
  },
  {
   "cell_type": "code",
   "execution_count": 6,
   "metadata": {},
   "outputs": [],
   "source": [
    "from indicnlp import common\n",
    "common.set_resources_path(INDIC_NLP_RESOURCES)\n",
    "from indicnlp import loader\n"
   ]
  },
  {
   "cell_type": "code",
   "execution_count": 9,
   "metadata": {},
   "outputs": [],
   "source": [
    "#loader.load()\n",
    "from indicnlp.normalize.indic_normalize import IndicNormalizerFactory\n",
    "from indicnlp.tokenize import indic_tokenize"
   ]
  },
  {
   "cell_type": "code",
   "execution_count": 15,
   "metadata": {},
   "outputs": [],
   "source": [
    "\n",
    "SOS_token = 0\n",
    "EOS_token = 1\n",
    "\n",
    "class Lang:\n",
    "    def __init__(self, name):\n",
    "        self.name = name\n",
    "        self.word2index = {}\n",
    "        self.word2count = {}\n",
    "        self.index2word = {0: \"SOS\", 1: \"EOS\"}\n",
    "        self.n_words = 2  # Count SOS and EOS\n",
    "\n",
    "    def addSentence(self, sentence):\n",
    "        for word in sentence.split(' '):\n",
    "            self.addWord(word)\n",
    "\n",
    "    def addWord(self, word):\n",
    "        if word not in self.word2index:\n",
    "            self.word2index[word] = self.n_words\n",
    "            self.word2count[word] = 1\n",
    "            self.index2word[self.n_words] = word\n",
    "            self.n_words += 1\n",
    "        else:\n",
    "            self.word2count[word] += 1\n",
    "\n",
    "#load doc into memory\n",
    "def load_doc(filename):\n",
    "    file = open(filename,mode='rt',encoding='utf-8')\n",
    "    text = file.read()\n",
    "    file.close()\n",
    "    return text\n",
    "\n",
    "#function to clean the text\n",
    "def clean_text(text):\n",
    "    text = text.replace(u',','')\n",
    "    text = text.replace(u'\"','')\n",
    "    text = text.replace(u'\"','')\n",
    "    text = text.replace(u\"‘‘\",'')\n",
    "    text = text.replace(u\"’’\",'')\n",
    "    text = text.replace(u\"''\",'')\n",
    "    text = text.replace(u\"।\",'')\n",
    "    text=text.replace(u',','')\n",
    "    text=text.replace(u'\"','')\n",
    "    text=text.replace(u'(','')\n",
    "    text=text.replace(u')','')\n",
    "    text=text.replace(u'\"','')\n",
    "    text=text.replace(u':','')\n",
    "    text=text.replace(u\"'\",'')\n",
    "    text=text.replace(u\"‘‘\",'')\n",
    "    text=text.replace(u\"’’\",'')\n",
    "    text=text.replace(u\"''\",'')\n",
    "    text=text.replace(u\".\",'')\n",
    "    text=text.replace(u\"-\",'')\n",
    "    text=text.replace(u\"।\",'')\n",
    "    text=text.replace(u\"?\",'')\n",
    "    text=text.replace(u\"\\\\\",'')\n",
    "    text=text.replace(u\"_\",'')\n",
    "    text=text.replace(\"'\", \"\")\n",
    "    text=text.replace('\"', \"\")\n",
    "    text= re.sub(\"'\", '', text)\n",
    "    text= re.sub(\"’\", '', text)\n",
    "    text=re.sub('[0-9+\\-*/.%]', '', text)\n",
    "    text=text.strip()\n",
    "    text=re.sub(' +', ' ',text)\n",
    "    exclude = set(string.punctuation)\n",
    "    text= ''.join(ch for ch in text if ch not in exclude)\n",
    "    return text\n",
    "\n",
    "#functions to preprocess English and Hindi text\n",
    "def pre_process_english_sentence(line):\n",
    "    line = line.lower()\n",
    "    line = clean_text(line)\n",
    "    re_print = re.compile('[^%s]' % re.escape(string.printable))\n",
    "    line = normalize('NFD', line).encode('ascii', 'ignore')\n",
    "    line = line.decode('UTF-8')\n",
    "    line = line.split()\n",
    "    line = [re_print.sub('', w) for w in line]\n",
    "    line = [word for word in line if word.isalpha()]\n",
    "    line = ' '.join(line)\n",
    "    return line\n",
    "\n",
    "def pre_process_hindi_sentence(line):\n",
    "    line=re.sub('[a-zA-Z]', '', line)\n",
    "    line = clean_text(line)\n",
    "    remove_nuktas = False\n",
    "    factory = IndicNormalizerFactory()\n",
    "    normalizer = factory.get_normalizer(\"hi\")\n",
    "    line = normalizer.normalize(line)\n",
    "    tokens = list()\n",
    "    for t in indic_tokenize.trivial_tokenize(line):\n",
    "        tokens.append(t)\n",
    "    line = tokens\n",
    "    line = [word for word in line if not re.search(r'\\d', word)]\n",
    "    line = ' '.join(line)\n",
    "    return (line)\n",
    "\n",
    "\n",
    "# split the loaded document into sentences and combine them to \n",
    "# form pairs\n",
    "def to_pairs(eng_doc,hindi_doc):\n",
    "    eng_lines = eng_doc.strip().split('\\n')\n",
    "    hindi_lines = hindi_doc.strip().split('\\n')\n",
    "    pairs = []\n",
    "    for line in range(len(eng_lines)):\n",
    "        pairs.append([])\n",
    "        pairs[line].append(pre_process_english_sentence(eng_lines[line]))\n",
    "        pairs[line].append(pre_process_hindi_sentence(hindi_lines[line]))\n",
    "    return pairs\n",
    "\n",
    "def prepareData(pairs):\n",
    "    input_lang = Lang('eng')\n",
    "    output_lang = Lang('hindi')\n",
    "    for pair in pairs:\n",
    "        input_lang.addSentence(pair[0])\n",
    "        output_lang.addSentence(pair[1])\n",
    "    return input_lang, output_lang\n",
    "\n",
    "\n",
    "#save the cleaned data to a file\n",
    "def save_cleaned_data(sentences,filename):\n",
    "    dump(sentences,open(filename,'wb'))\n",
    "    print('Saved: %s' %filename)"
   ]
  },
  {
   "cell_type": "code",
   "execution_count": 16,
   "metadata": {},
   "outputs": [],
   "source": [
    "english_text = load_doc('/home/nitin_grover/Desktop/Neural Machine Translation/English_Hindi/train/alt/en-hi/train.en')\n",
    "hindi_text = load_doc('/home/nitin_grover/Desktop/Neural Machine Translation/English_Hindi/train/alt/en-hi/train.hi')\n",
    "\n",
    "pairs_all = to_pairs(english_text, hindi_text)\n",
    "\n",
    "input_lang, output_lang = prepareData(pairs_all)"
   ]
  },
  {
   "cell_type": "code",
   "execution_count": 14,
   "metadata": {},
   "outputs": [
    {
     "name": "stdout",
     "output_type": "stream",
     "text": [
      "ऩ ऩ\n"
     ]
    }
   ],
   "source": [
    "from indicnlp.normalize.indic_normalize import IndicNormalizerFactory\n",
    "input_text=u\"\\u0929 \\u0928\\u093c\"\n",
    "remove_nuktas=False\n",
    "factory=IndicNormalizerFactory()\n",
    "normalizer=factory.get_normalizer(\"hi\")\n",
    "print (normalizer.normalize(input_text))"
   ]
  },
  {
   "cell_type": "code",
   "execution_count": 20,
   "metadata": {},
   "outputs": [
    {
     "data": {
      "text/plain": [
       "(20106, 2)"
      ]
     },
     "execution_count": 20,
     "metadata": {},
     "output_type": "execute_result"
    }
   ],
   "source": [
    "pairs_all = numpy.array(pairs_all)\n",
    "pairs_all.shape"
   ]
  },
  {
   "cell_type": "code",
   "execution_count": 21,
   "metadata": {},
   "outputs": [
    {
     "data": {
      "text/plain": [
       "array([['italy have defeated portugal in pool c of the rugby world cup at parc des princes paris france',\n",
       "        'में फ़्रांस पेरिस के पार्क डेस प्रिंसेस में हुए रग्बी विश्व कप के पूल में इटली ने पुर्तगाल को से हराया'],\n",
       "       ['andrea masi opened the scoring in the fourth minute with a try for italy',\n",
       "        'एंड्रिया मैसी ने चौथे मिनट में इटली के लिए ट्राई के द्वारा स्कोरिंग की शुरुआत करी'],\n",
       "       ['despite controlling the game for much of the first half italy could not score any other tries before the interval but david bortolussi kicked three penalties to extend their lead',\n",
       "        'पहले हाफ़ के अधिकांश समय तक खेल नियंत्रण में रहने के बावजूद इटली अंतराल से पहले कोई अन्य स्कोर नहीं कर पाया लेकिन डेविड बोर्तोलुसी ने अपनी बढ़त को बढ़ाने के लिए तीन पेनाल्टी लगाई'],\n",
       "       ...,\n",
       "       ['tmzcom reports that police were checking to see if her license was valid and was surprised that it was',\n",
       "        'की रिपोर्ट है कि पुलिस यह देखने के लिए जाँच कर रही थी कि उनका लाइसेंस वैध था या नहीं और वे यह जानकर हैरान हुए कि लाइसेंस वैध नहीं था'],\n",
       "       ['spears was not charged with anything and despite the paparazzis recklessness spears did not want the men arrested',\n",
       "        'स्पीयर्स पर कोई भी आरोप नहीं लगा और पैपराज़ी की लापरवाही के बावजूद स्पीयर्स नहीं चाहती थीं कि उन पुरुषों को गिरफ्तार किया जाए'],\n",
       "       ['britney spears was part of the group but was not driving recklessly said spokeswoman for the los angeles police department sara faden',\n",
       "        'लॉस एंजिल्स पुलिस विभाग की प्रवक्ता सारा फैडेन ने कहा ब्रिटनी स्पीयर्स समूह का हिस्सा थीं लेकिन लापरवाही से ड्राइविंग नहीं कर रही थीं']],\n",
       "      dtype='<U603')"
      ]
     },
     "execution_count": 21,
     "metadata": {},
     "output_type": "execute_result"
    }
   ],
   "source": [
    "pairs_all"
   ]
  },
  {
   "cell_type": "code",
   "execution_count": 22,
   "metadata": {},
   "outputs": [
    {
     "data": {
      "text/plain": [
       "<__main__.Lang at 0x7f485f688850>"
      ]
     },
     "execution_count": 22,
     "metadata": {},
     "output_type": "execute_result"
    }
   ],
   "source": [
    "input_lang"
   ]
  },
  {
   "cell_type": "code",
   "execution_count": 23,
   "metadata": {},
   "outputs": [
    {
     "name": "stdout",
     "output_type": "stream",
     "text": [
      "[italy have defeated portugal in pool c of the rugby world cup at parc des princes paris france] ==> [में फ़्रांस पेरिस के पार्क डेस प्रिंसेस में हुए रग्बी विश्व कप के पूल में इटली ने पुर्तगाल को से हराया]\n",
      "[andrea masi opened the scoring in the fourth minute with a try for italy] ==> [एंड्रिया मैसी ने चौथे मिनट में इटली के लिए ट्राई के द्वारा स्कोरिंग की शुरुआत करी]\n",
      "[despite controlling the game for much of the first half italy could not score any other tries before the interval but david bortolussi kicked three penalties to extend their lead] ==> [पहले हाफ़ के अधिकांश समय तक खेल नियंत्रण में रहने के बावजूद इटली अंतराल से पहले कोई अन्य स्कोर नहीं कर पाया लेकिन डेविड बोर्तोलुसी ने अपनी बढ़त को बढ़ाने के लिए तीन पेनाल्टी लगाई]\n",
      "[portugal never gave up and david penalva scored a try in the rd minute providing their only points of the match] ==> [हार न मानते हुए पुर्तगाल के डेविड पेनलावा ने मिनट में पॉइंट स्कोर किया पूरे खेल में यह पुर्तगाल का इकलौता पॉइंट था]\n",
      "[italy led at half time but were matched by portugal for much of the second half] ==> [पहले हाफ़ में इटली से आगे था पर दूसरे हाफ़ में पुर्तगाल ने कड़ी टक्कर दी]\n",
      "[however bortolussi scored his fourth penalty of the match followed by tries from mauro bergamasco and a second from andrea masi to wrap up the win for italy] ==> [हालाँकि बोर्तोलुसी ने मैच का चौथा पेनाल्टी स्कोर किया इसके बाद मौरो बर्गमैस्को और एंड्रिया मैसी की दूसरी कोशिश से इटली को जीत मिली]\n",
      "[currently third in pool c with eight points italy face a tough match against second placed scotland on september] ==> [इस समय आठ अंको के साथ इटली पूल में तीसरे नंबर पर हैं और इटली को सितंबर को स्कॉटलैंड के खिलाफ़ दूसरे मैच में कड़ी टक्कर मिली]\n",
      "[new zealand lead the group with ten points ahead of scotland on points difference] ==> [न्यूज़ीलैंड ग्रुप में प्रथम श्रेणी पर स्कॉटलैंड से पॉइंट से आगे रहा]\n",
      "[portugal are bottom of the group with no points behind romania with one] ==> [पॉइंट के साथ रोमानिया के बाद ग्रुप में सब से आखिर में पुर्तगाल था जिसके अंक थे]\n",
      "[some personal details of million british learner drivers who had applied for the theory test component of their driving licence have been lost in iowa in the usa] ==> [मिलियन ब्रिटिश शिक्षार्थी ड्राइवरों के कुछ व्यक्तिगत विवरण जिन्होंने अपने ड्राइविंग लाइसेंस के सिद्धांत परीक्षण घटक के लिए आवेदन किया था संयुक्त राज्य अमेरिका में आयोवा में गुम हो गए हैं]\n",
      "[the data was lost on a hard drive that was owned by pearson driving assessments ltd a private contractor to the uk driving standards agency] ==> [डेटा हार्ड ड्राइव से गायब हो गया था हार्ड ड्राइव पीयरसन ड्राइविंग असेसमेंट लिमिटेड जो यूके ड्राइविंग मानक एजेंसी के एक निजी ठेकेदार के स्वामित्व में था]\n",
      "[details were given by the uk transport secretary ruth kelly in the house of commons at utc yesterday] ==> [कल ब्रिटेन के परिवहन सचिव रूथ केली द्वारा पर हाउस ऑफ़ कॉमन्स में विवरण दिए गए]\n",
      "[it is the first major loss of data in the uk since information on million people was lost by hm revenue in october] ==> [यह ब्रिटेन में डेटा का पहला बड़ा नुकसान है क्योंकि अक्टूबर में रेवेन्यू द्वारा मिलियन लोगों की जानकारी गुम हो गई थी]\n",
      "[in her statement to mps ruth kelly confirmed that no banking information was contained within the lost data nor were individuals dates of birth] ==> [रूथ केली ने सांसदों को दिए अपने बयान में इस बात की पुष्टि की कि खोए हुए डेटा के अंदर कोई बैंकिंग जानकारी शामिल नहीं थी और न ही व्यक्तियों की जन्मतिथियां शामिल थी]\n",
      "[she highlighted that security measures had been taken and that the information that had been stored was not in a format readily usable or accessible by standard means] ==> [उन्होंने इस बात पर रोशनी डाली कि सुरक्षा उपाय किए गए थे और जो जानकारी संग्रहीत की गई थी वह मानक साधनों द्वारा आसानी से उपयोग करने योग्य या सुलभ प्रारूप में नहीं थी]\n",
      "[political figures in the uk continue to raise concerns about both the specific loss of this information and the nature of governments ability to safely gather and maintain information] ==> [यूके में राजनीतिक आंकड़े इस जानकारी के विशिष्ट नुकसान और सरकार द्वारा सुरक्षित रूप से जानकारी इकट्ठा करने और बनाए रखने की क्षमता की प्रकृति दोनों के बारे में चिंताए जताते हैं]\n",
      "[susan kramer representing the liberal democrats stated this constant attempt to gather data to get more data to know more about you to link it more together all of that it seems to me is what comes into question] ==> [लिबरल डेमोक्रेट्स का प्रतिनिधित्व करने वाली सुसान क्रेमर ने कहा डेटा इकट्ठा करने का यह लगातार प्रयास अधिक डेटा प्राप्त करने के लिए आपके बारे में अधिक जानने के लिए इसे और अधिक एक साथ जोड़ने के लिए मुझे लगता है कि यह सब सवालिया है]\n",
      "[criticism was targeted to government efforts in the affair of the jian seng in the australian senate march and over the handling of the ghost ship the tanker jian seng which was found abandoned and unlit in the gulf of carpentaria] ==> [ऑस्ट्रेलियाई सीनेट और मार्च को जियान सेंग के चक्कर में सरकारी प्रयासों के लिए लक्षित किया गया था भूत जहाज के टैंकर जियान सेंग को संभालने के लिए मार्च और पर जिसे कारपेंटेरिया की खाड़ी में छोड़ दिया गया था]\n",
      "[senator joe ludwig labor queensland asked of the minister for justice and customs senator chris ellison in question time whether he stood by his claim that he made yesterday that the discovery of the jian seng demonstrated that the australian government had in place aerial and maritime surveillance to intercept a vessel in these circumstances and that was done and asked why it took the government two weeks to intercept the vessel after it entered australian waters] ==> [सीनेटर जो लुडविग लेबर क्वींसलैंड ने न्याय और सीमा शुल्क मंत्री से क्वेशचन टाइम में सीनेटर क्रिस एलिसन से पूछा कि क्या वह अपने दावे से खड़े थे जो उन्होंने कल किया था कि जियान सेंग की खोज में दिखाया कि ऑस्ट्रेलियाई सरकार ने हवाई और जगह ले ली थी इन परिस्थितियों में एक पोत को रोकने के लिए समुद्री निगरानी और यह किया गया था और पूछा कि ऑस्ट्रेलियाई जल में प्रवेश करने के बाद पोत को बाधित करने में सरकार को दो सप्ताह क्यों लगे]\n",
      "[senator ellison responded that at the vessels first sighting on march it was not doing anything illegal and criticised the oppositions claim that the ship was drifting for seventeen days saying that it was not stated as having drifted for the whole of the days] ==> [सीनेटर एलिसन ने जवाब दिया कि मार्च को जहाज को पहली बार देखने पर लगा कि यह कुछ भी अवैध नहीं था और विपक्ष के इस दावे की आलोचना की कि जहाज सत्रह दिनों के लिए बह रहा था यह कहते हुए कि ऐसा नहीं कहा गया था कि वह पूरे दिनों के लिए बहा था”]\n",
      "[ludwig went on to note that it was not customs that spotted the ship but a passing australian barge but ellison had defended this stating that ludwig thinks that commercial vessels have absolutely no role in looking out for australia and that ellison will rely on reports to our hotline and go out and inspect vessels] ==> [लुडविग ने ध्यान दिया कि यह सीमा शुल्क नहीं था जो जहाज को स्पॉट करता था बल्कि एक पासिंग ऑस्ट्रेलियाई बार्ज था लेकिन एलिसन ने इसका बचाव करते हुए कहा था कि लुडविग का मानना है कि वाणिज्यिक जहाजों की ऑस्ट्रेलिया की तलाश में कोई भूमिका नहीं हैहमारी हॉटलाइन की रिपोर्टों पर भरोसा करें और वाहिकाओं का निरीक्षण करें]\n",
      "[later senator kerry obrien labor tasmania criticised the governments implementation of coastal defense and highlighted the dangers of ignoring the ship for seventeen days saying that it posed and possibly still poses unknown environmental and quarantine risks and that the jian seng has been refused admission to weipa harbourit could have been carrying literally anything] ==> [बाद में सीनेटर केरी ओब्रायन श्रम तस्मानिया ने तटीय रक्षा के सरकार के कार्यान्वयन की आलोचना की और सत्रह दिनों के लिए जहाज की अनदेखी के खतरों को उजागर किया यह कहते हुए कि यह अभी भी अज्ञात पर्यावरणीय और संगरोध जोखिम पैदा करता है और कहा कि जियान सेंग को वीपा बंदरगाह में प्रवेश से मना कर दिया गया है यह सचमुच कुछ भी ले जा सकता था]\n",
      "[senator david johnston liberal western australia went on to debate that there are no shipping lanes in the area where the jian seng was found and that devoting resources to a harmless ship would leave gaps in the coastal defenses elsewhere] ==> [सीनेटर डेविड जॉनसन लिबरल वेस्टर्न ऑस्ट्रेलिया ने बहस की कि जिस क्षेत्र में जियान सेंग पाया गया था वहां कोई शिपिंग लेन नहीं है और एक हानिरहित जहाज के लिए संसाधनों को समर्पित करने से तटीय सुरक्षा में कहीं और अंतराल होगा]\n",
      "[the murder probably took place on sunday july according to the local police which also states that at least ten suspects have been questioned] ==> [हत्या शायद स्थानीय पुलिस के अनुसार जुलाई रविवार को हुई जिसमें यह भी कहा गया है कि कम से कम दस संदिग्ध लोगों से पूछताछ की गई है]\n",
      "[the body of joana dudushi was found near her apartment where she lived with her severalmonthold baby] ==> [जोआना दुदुशी का शव उसके अपार्टमेंट के पास पाया गया जहां वह अपने कई महीने के बच्चे के साथ रहती थी]\n",
      "[nascar sprint cup series driver jimmie johnson won his second consecutive race of the season on sunday during the lenox industrial tools at new hampshire motor speedway] ==> [स्प्रिंट कप सीरीज़ के ड्राइवर जिम्मी जॉनसन ने के लेनॉक्स इंडस्ट्रियल टूल्स के दौरान न्यू हैम्पशायर मोटर स्पीडवे पर रविवार को सीज़न की अपनी लगातार दूसरी रेस जीती]\n",
      "[it was his fifth victory in the season of the uss leading professional stock car series drawing him level with denny hamlin for the most wins] ==> [यह अमेरिका की प्रमुख पेशेवर स्टॉक कार श्रृंखला के के सीजन में उनकी पांचवीं जीत थी जिसमें उन्होंने डेनी हैमलिन के साथ सबसे अधिक जीत दर्ज की]\n",
      "[the victory earned johnson points including a point bonus moving him closer to point leader kevin harvick but he is still points behind in second position] ==> [जीत से जॉनसन ने अंक अंक बोनस सहित अर्जित किए जो उन्हें पॉइंट लीडर केविन हार्विक के करीब ले गया लेकिन वह अभी भी दूसरे स्थान पर अंक पीछे हैं]\n",
      "[in the point standings harvick and johnson remained in the first and second position] ==> [पॉइंट स्टैंडिंग में हार्विक और जॉनसन पहले और दूसरे स्थान पर रहे]\n",
      "[kyle busch because of his accident with jeff burton maintained the third position while his team mate hamlin is fourth] ==> [काइल बुस्च जेफ़ बर्टन के साथ अपनी दुर्घटना के कारण तीसरे स्थान पर रहे जबकि उनकी टीम के साथी हेमलिन चौथे स्थान पर हैं]\n",
      "[gordon kurt busch matt kenseth and burton followed in the topeight points positions] ==> [गॉर्डन कर्ट बुश मैट केनेथ और बर्टन ने शीर्ष आठ अंक हासिल किए]\n",
      "[stewart move up one position after finishing second and is in the ninth position as greg biffle fell to tenth] ==> [सेकंड समाप्त होने के बाद स्टीवर्ट एक स्थान से ऊपर जाते हैं और नौवें स्थान पर आ जाते हैं क्योंकि ग्रेग बिफले दसवें स्थान पर थे]\n",
      "[mark martin and carl edwards rounded out the toptwelve and is currently in the chase] ==> [मार्क मार्टिन और कार्ल एडवर्ड्स ने शीर्षबारह को पूरा किया और वर्तमान में चेस में हैं]\n",
      "[palestinian militants denied claims by an israeli minister that they had agreed a ceasefire] ==> [फिलिस्तीनी आतंकवादियों ने एक इज़रायली मंत्री के दावों का खंडन किया कि उन्होंने संघर्ष विराम पर सहमति जताई थी]\n",
      "[just a short while after a ceasefire was apparently agreed between israel and the new palestinian leader mahmoud abbas a spokesman for palestinian militant group hamas denied the claim] ==> [इज़रायल और फिलिस्तीनी नए नेता महमूद अब्बास के बीच संघर्ष विराम पर स्पष्ट रूप से सहमति के तुरंत बाद फिलिस्तीनी आतंकवादी समूह हमास के एक प्रवक्ता ने दावा नकार दिया]\n",
      "[city officials in seven united states cities were warned today about a possible attack on nfl stadiums using dirty bombs] ==> [अमेरिका के सात शहरों में शहर के अधिकारियों को स्टेडियमों पर डर्टी बम का उपयोग करके संभावित हमले के बारे में आज चेतावनी दी गई थी]\n",
      "[the department of homeland security which issued the warnings has also added that the threat is not credible] ==> [होमलैंड सिक्योरिटी विभाग जिसने चेतावनी जारी की थी ने यह भी कहा है कि खतरा विश्वसनीय नहीं है]\n",
      "[the bomb threat originally discovered on chan stated that truck bombs containing radiological materials would be detonated during the football games this sunday] ==> [मूल रूप से पर खोजे गए बम के खतरे के बारे में कहा गया कि इस रविवार को फ़ुटबॉल खेलों के दौरान रेडियोलॉजिकल सामग्री वाले ट्रक बम विस्फ़ोट किए जाएंगे]\n",
      "[while the department of homeland security did not disclose which cities were mentioned an unnamed department official has said the cities named were atlanta miami new york seattle houston oakland california and cleveland ohio] ==> [जहां होमलैंड सिक्योरिटी विभाग ने खुलासा नहीं किया कि कौनकौन से शहरों का उल्लेख किया गया है तब एक अनाम विभाग के अधिकारी ने शहरों के नाम बताए जिनमें अटलांटा मियामी न्यूयॉर्क सिएटल ह्यूस्टन ओकलैंड कैलिफ़ोर्निया और क्लीवलैंड ओहियो शामिल थे]\n",
      "[in response to the threat several teams are scheduled to sweep some stadiums with radiation detection devices on sunday for the presence of radioactive materials] ==> [खतरे के प्रतिसाद में कई टीमों को रेडियोधर्मी पदार्थों के होने के लिए रविवार को विकिरण का पता लगाने वाले उपकरणों के साथ कुछ स्टेडियमों में झाडू लगाने की योजना है]\n",
      "[in addition the parking areas and entrances will be monitored closely for suspicious activity] ==> [इसके अलावा संदिग्ध गतिविधियों के लिए पार्किंग क्षेत्रों और प्रवेश द्वारों पर कड़ी निगरानी रखी जाएगी]\n",
      "[the nfl has released a statement saying that the stadiums are well protected through security measures already in place] ==> [ने एक बयान जारी कर कहा है कि स्टेडियम पहले से ही सुरक्षा उपायों के माध्यम से अच्छी तरह से संरक्षित हैं]\n",
      "[the fbi has questioned a milwaukee resident said to be responsible for the threats which were posted on the web site last week] ==> [ने एक मिल्वौकी निवासी के उन धमकियों के लिए जिम्मेदार होने पर सवाल उठाया है जो पिछले सप्ताह वेब साइट पर पोस्ट की गई थी]\n",
      "[the fbi has declined to release the details of the investigation] ==> [ने जांच का विवरण जारी करने से इनकार कर दिया है]\n",
      "[southeast china has been flooded by torrential rainstorms as the severe tropical storm bilis came ashore on friday july] ==> [दक्षिणपूर्वी चीन में मूसलाधार बारिश से बाढ़ आ गई है क्योंकि गंभीर उष्ण कटिबंधीय तूफान बिलीस शुक्रवार जुलाई को आया था]\n",
      "[the total death toll stands at people but many people are missing and the figure might rise] ==> [कुल मरने वालों की संख्या लोगों की है लेकिन कई लोग लापता हैं और आंकड़ा बढ़ सकता है]\n",
      "[floods meters high in some areas washed away houses damaged roads power lines and devastated villages and agriculture] ==> [बाढ़ ने कुछ क्षेत्रों में मीटर ऊंचे घरों को नष्ट कर दिया सड़कों बिजली की लाइनों को क्षतिग्रस्त कर दिया और गांवों और कृषि को नष्ट कर दिया]\n",
      "[three million people were affected by the tropical storm which xinhua the state news agency estimated would cost three billion yuan million damage] ==> [राज्य की समाचार एजेंसी सिन्हुआ ने उष्ण कटिबंधीय तूफान से तीन मिलियन लोगों को प्रभावित किया था अनुमान है कि तीन अरब युआन मिलियन डॉलर की क्षति होगी]\n",
      "[the worsehit provinces were fujian hunan and guangdong while there were deaths and an economic impact in zhejian jiangxi and guangxi provinces] ==> [सबसे ज्यादा प्रभावित प्रांत फुज़ियान हुनान और ग्वांगडोंग थे जबकि झेजियांग जियांग्शी और गुआंग्शी प्रांतों में मौते हुई और आर्थिक हानियां हुई]\n",
      "[at least died in hunan where dam reservoirs rose to their limits] ==> [हुनान में कम से कम की मौत हो गई जहां बांध के जलाशय अपनी सीमा तक बढ़ गए]\n",
      "[the water swell in leiyang rose metres above the levels from friday] ==> [लेइयांग में शुक्रवार से जल स्तर मीटर ऊपर उठ गया]\n",
      "[people in the cities of hengyang and chenzhou were reported stranded] ==> [हेंगयांग और चेनझोउ शहरों में लोगों के फंसे होने की सूचना है]\n",
      "[coal miners died when a dam burst ravaging the land and flooding their pit at shenjiawan colliery] ==> [बांध के धंसने और शेनजियावन कोलियरी में उनके गड्ढे में पानी भरने से कोयला खनिकों की मौत हो गई]\n",
      "[the floods in hunan also took out the beijingguangzhou railway leaving stranded in the capital changsha] ==> [हुनान में बाढ़ ने राजधानी चांग्शा में फंसे लोगों को छोड़कर बीजिंगग्वांगझू रेलवे को भी प्रभावित किया]\n",
      "[workers were sent to repair the damaged sections of line] ==> [मजदूरों को लाइन के क्षतिग्रस्त हिस्सों की मरम्मत के लिए भेजा गया था]\n",
      "[an estimated people died in guangdong an important economic area near hong kong] ==> [हांगकांग के पास एक महत्वपूर्ण आर्थिक क्षेत्र ग्वांगडोंग में अंदाज़न लोगों की मौत हो गई]\n",
      "[lechang was submerged under three metres of water and prisoners had to be moved from the city] ==> [लिंचग तीन मीटर पानी में डूबा हुआ था और कैदियों को शहर से बाहर जाना पड़ा था]\n",
      "[deadly mudslides killed in the city of zhangzhou and another are missing from a second mudslide] ==> [जांगझोउ शहर में घातक मडस्लाइड्स ने की जान ले ली और दूसरे मडस्लाइड से अन्य लापता हैं]\n",
      "[at least two people were wounded after two freight trains collided with each other near kotri in southern pakistan today] ==> [दक्षिणी पाकिस्तान के कोटड़ी के पास आज दो मालगाड़ियों के आपस में टकराने के बाद कम से कम दो लोग घायल हो गए]\n",
      "[a freight train was on the track near the kotri railway station when a hyderabadbound freight train coming from karachi loaded with oil drums hit it and a fire broke out] ==> [कोटड़ी रेलवे स्टेशन के पास एक मालगाड़ी पटरी पर थी जब तेल के ड्रमों से भरी कराची से आ रही हैदराबाद जाने वाली मालगाड़ी ने उसे टक्कर मार दी और उसमें आग लग गई]\n",
      "[twenty eight goods wagons of the freight train carrying litres of oil were derailed and oil was spilled] ==> [लीटर तेल ले जाने वाली मालगाड़ी के अट्ठाईस माल वैगन पटरी से उतर गए और तेल बिखर गया]\n",
      "[rail traffic in both directions has been suspended on the track following this incident] ==> [इस घटना के बाद दोनों दिशाओं से आने वाले रेल यातायात को ट्रैक पर रोक दिया गया है]\n",
      "[firebrigade and ambulance immediately reached the spot while pakistan railways emergency relief train has left karachi towards the spot] ==> [फायर ब्रिगेड और एंबुलेंस तुरंत मौके पर पहुंची जबकि पाकिस्तान रेलवे की आपातकालीन राहत ट्रेन कराची से घटनास्थल की ओर रवाना हो गई]\n",
      "[pakistani officials have said that a suspected suicide bomber exploded a car near the provincial legislative assembly that was in session in peshawar killing at least people and wounding more than others] ==> [पाकिस्तानी अधिकारियों ने कहा है कि एक संदिग्ध आत्मघाती हमलावर ने पेशावर में सत्र में प्रांतीय विधान सभा के पास एक कार में विस्फोट किया जिसमें कम से कम लोग मारे गए और से अधिक लोग घायल हो गए]\n",
      "[the blast scattered debris and destroyed vehicles in peshawars crowded khyber bazaar area located in the center of the city] ==> [विस्फोट से सब दूर मलबा बिखर गया और शहर के केंद्र में स्थित पेशावर के भीड़ भरे खैबर बाजार क्षेत्र में वाहन नष्ट कर दिए]\n",
      "[a suicide bomber blew himself up as the car was next to a passenger bus passing through the market said senior police officer shafqat malik] ==> [वरिष्ठ पुलिस अधिकारी शफकत मलिक ने कहा एक आत्मघाती हमलावर ने खुद को उड़ा लिया क्योंकि एक कार बाजार से गुजर रही एक यात्री बस के पास थी]\n",
      "[he said that the bomb consisted of fifty kilograms of explosives and contained shells and bearings to maximise damage] ==> [उन्होंने कहा कि बम में पचास किलोग्राम विस्फोटक था और ज़्यादा नुकसान पहुँचाने के लिए उसमें गोले और बीयरिंग शामिल थे]\n",
      "[one eyewitness told the voice of america news agency he was sitting in his shop when a big explosion shook the area friday morning sending dust in the air and causing objects to fall from the walls] ==> [एक प्रत्यक्षदर्शी ने वॉयस ऑफ़ अमेरिका समाचार एजेंसी को बताया कि वह अपनी दुकान में बैठा हुआ था जब शुक्रवार सुबह एक बड़े विस्फोट ने क्षेत्र को हिला दिया हवा में धूलधूल हो गई जिससे दिवार से सटा सामान नीचे गिर पड़ा]\n",
      "[a teacher working in a nearby school also said that when he went outside after the blast he saw bodies lying all around the area] ==> [पास के एक स्कूल में काम करने वाले एक शिक्षक ने यह भी कहा कि जब वह विस्फोट के बाद बाहर गए तो उन्होंने देखा कि पूरे इलाके में लाशें पड़ी थीं]\n",
      "[pakistani interior minister rehman malik indicated that such acts of terrorism might force the government to launch a much anticipated antitaliban operation in south waziristan] ==> [पाकिस्तानी गृह मंत्री रहमान मलिक ने संकेत दिया कि आतंकवाद के ऐसे कार्य सरकार को दक्षिण वजीरिस्तान में बहुप्रतीक्षित तालिबान विरोधी अभियान शुरू करने के लिए मजबूर कर सकते हैं]\n",
      "[he said that fridays blast along with a number of other deadly attacks in peshawar shows the government has in his words no option but to go on the offensive] ==> [उन्होंने कहा कि पेशावर में कई अन्य जानलेवा हमलों के साथ शुक्रवार को हुए विस्फोट से पता चलता है कि सरकार के अपने शब्दों में उनसे पासकोई विकल्प नहीं बल्कि केवल पर आपत्तिजनक टिप्पणी करना शेष है]\n",
      "[while the military has not publicly set a date for any major operation in the area un officials say some civilians have fled the region in anticipation of a new offensive] ==> [हालांकि सेना ने सार्वजनिक रूप से क्षेत्र में किसी भी बड़े ऑपरेशन के लिए कोई तिथि निर्धारित नहीं की है संयुक्त राष्ट्र के अधिकारियों का कहना है कि कुछ नागरिक एक नए हमले की आशंका में क्षेत्र से भाग गए हैं]\n",
      "[after three days of talks parties in northern ireland have come to a stalemate over the election of a chairperson for a committee to help setup a devolved government in northern ireland] ==> [तीन दिनों की वार्ता के बाद उत्तरी आयरलैंड में एक विकसित सरकार की स्थापना करने में सहायता के लिए समिती के अध्यक्ष के चुनाव पर गतिरोध उत्पन्न करने के लिए उत्तरी आयरलैंड में पक्ष सामने आए हैं]\n",
      "[it is now up to northern ireland secretary of state peter hain to choose the next course of action] ==> [अब उत्तरी आयरलैंड के विदेश मंत्री पीटर हैन को निर्धारित करना है कि आगे क्या कार्रवाई करना है]\n",
      "[the committee known as the preparation for government committee convened monday to begin its first task the election of a chairperson for the committee] ==> [समिति जिसे सरकारी समिति की तैयारी के रूप में जाना जाता है ने अपना पहला कार्य शुरू करने के लिए सोमवार को बुलाया जो कि समिति के लिए एक अध्यक्ष का चुनाव करना है]\n",
      "[its main task however is to help set a roadmap for devolved government in northern ireland] ==> [हालांकि इसका मुख्य कार्य उत्तरी आयरलैंड में विकसित सरकार के लिए एक रोडमैप निर्धारित करने में मदद करना है]\n",
      "[the committee is made up of the two republican parties sinn fein and sdlp the two unionist parties dup and uup and the nonsectarianist alliance party] ==> [समिति दो रिपब्लिकन पार्टियों सिन फ़ेन और दो संघवादी दलों और और गैरसंप्रदायवादी गठबंधन पार्टी से बनी है]\n",
      "[sinn feins proposal is for the chairpersonship to revolve between them and the democratic unionist party] ==> [सिन फ़ेन का प्रस्ताव उनके और डेमोक्रेटिक यूनियनिस्ट पार्टी के बीच चेयरपर्सनशिप के लिए है]\n",
      "[the dup proposed that speaker of the assembly eileen bell should be the chairperson] ==> [ने प्रस्ताव दिया कि विधानसभा के अध्यक्ष एलीन बेल को अध्यक्ष होना चाहिए]\n",
      "[however bell stated that it would inappropriate for her to take the post and refused] ==> [हालांकि बेल ने कहा कि उसके लिए पद लेना अनुचित होगा और इनकार कर दिया]\n",
      "[they also suggested the dup mp for south antrim william mccrea and alliance party leader david ford as possible candidates] ==> [उन्होंने संभावित उम्मीदवारों के रूप में दक्षिण एंट्रीम विलियम मैकक्री और एलायंस पार्टी के नेता डेविड फ़ोर्ड के लिए सांसद का सुझाव दिया]\n",
      "[peter hain called the refusal of parties to cooperate frustrating] ==> [पीटर हैन ने पार्टियों के सहयोग के इंकार को निराशाजनक करार दिया]\n",
      "[sinn fein sdlp and the alliance party have all blamed the dup for the failure] ==> [सिन फ़ेन और अलायंस पार्टी ने विफलता के लिए को दोषी ठहराया है]\n",
      "[yet again the dup instead of helping to remove obstacles to devolution have shown themselves to be nothing but obstructive and lacking in any spirit of cooperation said sean farren of the sdlp] ==> [के सीन फारेन ने कहा फिर से ने विकास की बाधाओं को दूर करने में मदद करने के बजाय खुद को कुछ भी नहीं बल्कि अवरोधक और कमी के रूप में दिखाया है]\n",
      "[if the dup is not prepared to do the business or give any substantive indication in the course of june then the british government would be as well stopping the salaries at the end of june said sinn feins martin mcguinness] ==> [अगर जून के दौरान काम करने या कोई ठोस संकेत देने के लिए तैयार नहीं है तो ब्रिटिश सरकार जून के अंत में वेतन रोक देगी सीन फ़िन के मार्टिन मैकगिनेंस ने कहा]\n",
      "[the practical reality is that the two biggest parties have not shown they are prepared to move forward at all] ==> [व्यावहारिक वास्तविकता यह है कि दो सबसे बड़ी पार्टियों ने नहीं दिखाया है कि वे आगे बढ़ने के लिए बिल्कुल तैयार हैं]\n",
      "[the prevarication and petty wriggling by the dup is preventing the potential for progress and holding us all up to public ridicule] ==> [द्वारा प्रचलित और क्षुद्र प्रकोप प्रगति की संभावनाओं को रोक रहा है और सार्वजनिक उपहास के लिए हम सभी को जिम्मेदार ठहरा रहा है]\n",
      "[on monday ian paisley asked for extension of the november deadline fot two weeks] ==> [सोमवार को इयान पैस्ले ने नवंबर की समय सीमा दो सप्ताह के लिए बढ़ाने के लिए कहा]\n",
      "[this is part of plan by british prime minister tony blair and irish toaiseach bertie ahern to set up a devolved government in northern ireland after its assembly was suspended in october over allegations of a ira spy ring] ==> [यह ब्रिटिश प्रधान मंत्री टोनी ब्लेयर और आयरिश तोसेक बर्टी अहर्न द्वारा उत्तरी आयरलैंड में एक विकसित सरकार स्थापित करने की योजना का एक हिस्सा है जब अक्टूबर में एक स्पाय रिंग के आरोपों पर अपनी विधानसभा को निलंबित कर दिया गया था]\n",
      "[if a plan for devolved government is not setup by november direct rule from london will continue with greater input from the republic of ireland] ==> [यदि नवंबर तक विकसित सरकार की कोई योजना तैयार नहीं की जाती है तो आयरलैंड गणराज्य से अधिक इनपुट के साथ लंदन से प्रत्यक्ष शासन जारी रहेगा]\n",
      "[pc manufacturer and apple computer competitor dell inc has stated that it is interested in shipping computers running apples mac os x michael dell founder and chairman of dell computers made the comments while talking to david kirkpatrick of fortune magazine] ==> [निर्माता और कंप्यूटर प्रतियोगी डेल इंक ने कहा है कि वह शिपिंग कंप्यूटर में दिलचस्पी रखता है जिन पर का चला रहा है कंप्यूटर्स के संस्थापक और अध्यक्ष माइकल डेल ने फ़ॉर्च्यून पत्रिका के डेविड किर्कपैट्रिक से बात करते हुए यह टिप्पणी की]\n",
      "[if apple decides to open the mac os to others we would be happy to offer it to our customers dell wrote in an email to kirkpatrick] ==> [ने किर्कपैट्रिक को एक ईमेल में लिखा है अगर को दूसरों के लिए प्रदान करने का फैसला करता है तो हमें इसे अपने ग्राहकों को देने में खुशी होगी]\n",
      "[apple recently announced that it would begin using intel x microprocessors in its computers next year but has continued to deny reports that they will allow their os to be run on nonapple hardware] ==> [ने हाल ही में घोषणा की कि वह अगले साल अपने कंप्यूटरों में माइक्रोप्रोसेसर्स का उपयोग करना शुरू कर देगा लेकिन उन रिपोर्टों का खंडन करते रहे कि वे अपने ऑपरेटिंग सिस्टम को गैर हार्डवेयर पर चलाने की अनुमति देंगे]\n",
      "[seismologists at usgs have indicated that this earthquake is an aftershock of the earthquake which had occurred just a few hours earlier km miles distant in the indian ocean near sumatra indonesia] ==> [के सीस्मोलॉजिस्ट ने संकेत दिया है कि यह भूकंप भूकंप का एक आफ़्टरशॉक है जो कुछ ही घंटे पहले किमी मील दूर इंडोनेशिया के सुमात्रा के पास हिंद महासागर में आया था]\n",
      "[the bangladesh meteorological department issued a statement that the quake had struck chittagong a southern port that is the second largest city in bangladesh] ==> [बांग्लादेश के मौसम विभाग ने एक बयान जारी किया कि भूकंप ने चटगोंग को एक दक्षिणी बंदरगाह बना दिया था जो बांग्लादेश का दूसरा सबसे बड़ा शहर है]\n",
      "[researchers say that two men claiming to be bigfoot hunters in georgia in the united states and who claimed to have found the remains of the mythical creature earlier this month are part of an elaborate hoax] ==> [शोधकर्ताओं का कहना है कि अमेरिका के जॉर्जिया में बिगफ़ुट शिकारी होने का दावा करने वाले दो लोग जिन्होंने यह भी दावा किया कि इस महीने की शुरुआत में पौराणिक प्राणी के अवशेष मिले हैं यह एक विस्तृत अफवाह का हिस्सा हैं]\n",
      "[bigfoot hunters matt whitton and rick dyer stated on august that they were hunting for the creature in the forests of northeastern georgia when they came across the supposed corpse of one of the legendary cryptids] ==> [बिगफ़ुट शिकारी मैट व्हिटन और रिक डायर ने अगस्त को कहा कि वे पूर्वोत्तर जॉर्जिया के जंगलों में जानवरों का शिकार कर रहे थे और तब उनका सामना एक प्रसिद्ध क्रिप्टोइड में से एक की लाश से हुआ]\n",
      "[after finding the body they claimed to have taken it home where they stored it in a freezer] ==> [शव मिलने के बाद उन्होंने इसे घर ले जाने का दावा किया जहां उन्होंने इसे एक फ़्रिज़र में संग्रहीत किया]\n",
      "[the researchers then attempted to reclaim their money and went to the hotel whitton and dyer were staying in only to find the rooms empty and the two men nowhere to be found] ==> [शोधकर्ताओं ने इसके बाद अपने पैसे वापस लेने का प्रयास किया और होटल व्हिटन और डायर के पास गए जहां वे रहते थे केवल यह देखने के लिए कि क्या कमरे खाली है और वे दोनों आदमी कहीं नहीं मिले]\n",
      "[whitton and dyer claimed they had photos video and dna evidence to support their claim but only one photo portraying a blurred black figure in the distance in the forest was provided] ==> [व्हिटन और डायर ने दावा किया कि उनके पास उनके दावे का समर्थन करने के लिए फोटो वीडियो और सबूत हैं लेकिन जंगल में दूरी में धुंधली काली आकृति को चित्रित करने वाली केवल एक तस्वीर दी गई थी]\n"
     ]
    }
   ],
   "source": [
    "for i in range(100):\n",
    "    print('[%s] ==> [%s]' %(pairs_all[i][0],pairs_all[i][1]))"
   ]
  },
  {
   "cell_type": "code",
   "execution_count": 24,
   "metadata": {},
   "outputs": [
    {
     "name": "stdout",
     "output_type": "stream",
     "text": [
      "Saved: english-hindi.pkl\n"
     ]
    }
   ],
   "source": [
    "#save it into a file\n",
    "save_cleaned_data(pairs_all,'english-hindi.pkl')"
   ]
  },
  {
   "cell_type": "code",
   "execution_count": 33,
   "metadata": {},
   "outputs": [
    {
     "name": "stdout",
     "output_type": "stream",
     "text": [
      "Saved: english-hindi-both.pkl\n",
      "Saved: english-hindi-train.pkl\n",
      "Saved: english-hindi-test.pkl\n"
     ]
    }
   ],
   "source": [
    "#Split data into train(18k) and test(2k)\n",
    "from pickle import load,dump\n",
    "from numpy.random import rand,shuffle\n",
    "\n",
    "#load the clean dataset\n",
    "def load_clean_dataset(filename):\n",
    "    return load(open(filename,'rb'))\n",
    "\n",
    "#for saving a list of clean sentences to file\n",
    "def save_clean_data(sentences,filename):\n",
    "    dump(sentences,open(filename,'wb'))\n",
    "    print('Saved: %s' %filename)\n",
    "\n",
    "raw_dataset = load_clean_dataset('english-hindi.pkl')\n",
    "\n",
    "#reducing dataset size to 20k\n",
    "n_sentences = 20000\n",
    "dataset = raw_dataset[:n_sentences,:]\n",
    "shuffle(dataset)\n",
    "\n",
    "train,test = dataset[:18000],dataset[18000:]\n",
    "\n",
    "#save it \n",
    "save_clean_data(dataset,'english-hindi-both.pkl')\n",
    "save_clean_data(train,'english-hindi-train.pkl')\n",
    "save_clean_data(test,'english-hindi-test.pkl')"
   ]
  },
  {
   "cell_type": "code",
   "execution_count": 34,
   "metadata": {},
   "outputs": [
    {
     "data": {
      "text/plain": [
       "array([['in line with a press statement made by the ministry of foreign affairs and european integration mfaei on wednesday december romanian ambassador extraordinary and plenipotentiary to moldova filip teodorescu was invited to the mfaei',\n",
       "        'विदेश मंत्रालय और यूरोपीय एकीकरण मंत्रालय एमएफएईआई द्वारा दिए गए एक प्रेस बयान के अनुसार बुधवार दिसंबर को मोल्दोवा के लिए रोमानियाई राजदूत असाधारण और साधिकार फिलिप टिओडोरेस्कू एमएफएईआई को आमंत्रित किया गया था'],\n",
       "       ['fredricks death comes in the same month as gamini goonasena another former sri lankan cricketer who died at the age of',\n",
       "        'फ्रेड्रिक की मृत्यु उसी महीने में हुई जब गामिनी गोनासेन श्रीलंका के एक अन्य पूर्व क्रिकेटर जिनकी वर्ष की आयु में मृत्यु हो गई थी'],\n",
       "       ['that cannot will not happen if scotland leaves the union',\n",
       "        'अगर स्कॉटलैंड संघ को छोड़ता है तो ऐसा नहीं होगा'],\n",
       "       ...,\n",
       "       ['leslie aun a spokesperson for the komen foundation said the organization adopted a new rule that does not allow grants or funding to be awarded to organizations that are under legal investigation',\n",
       "        'लेसली अउन कोमेन फाउंडेशन के प्रवक्ता ने कहा कि संगठन ने एक नया नियम बनाया है जो कानूनी जाँच के अधीन चलनेवाले संगठनों को आर्थिक सहायता अथवा धन की स्वीकृति प्रदान नहीं की जाएगी'],\n",
       "       ['the label has also worked with sturm und drang apocalyptica and him',\n",
       "        'लेबल ने स्टर्म उंड ड्रेंग एपोकेलिप्टिका और एचआयएम के साथ भी काम किया है'],\n",
       "       ['one thing is clear the five members of the court who issued the opinion do not share the same standards of decency as the people of louisiana jindal said',\n",
       "        'जिंदल ने कहा एक बात तो स्पष्ट है कि अदालत के पांच सदस्य जिन्होंने राय जारी की है वे लुइसियाना के लोगों के समान शालीनता के मानकों को साझा नहीं करते हैं']],\n",
       "      dtype='<U603')"
      ]
     },
     "execution_count": 34,
     "metadata": {},
     "output_type": "execute_result"
    }
   ],
   "source": [
    "train"
   ]
  },
  {
   "cell_type": "code",
   "execution_count": 35,
   "metadata": {},
   "outputs": [
    {
     "data": {
      "text/plain": [
       "(18000, 2)"
      ]
     },
     "execution_count": 35,
     "metadata": {},
     "output_type": "execute_result"
    }
   ],
   "source": [
    "train.shape"
   ]
  },
  {
   "cell_type": "code",
   "execution_count": 36,
   "metadata": {},
   "outputs": [
    {
     "data": {
      "text/plain": [
       "(2000, 2)"
      ]
     },
     "execution_count": 36,
     "metadata": {},
     "output_type": "execute_result"
    }
   ],
   "source": [
    "test.shape"
   ]
  },
  {
   "cell_type": "code",
   "execution_count": null,
   "metadata": {},
   "outputs": [],
   "source": []
  }
 ],
 "metadata": {
  "kernelspec": {
   "display_name": "Python 3",
   "language": "python",
   "name": "python3"
  },
  "language_info": {
   "codemirror_mode": {
    "name": "ipython",
    "version": 3
   },
   "file_extension": ".py",
   "mimetype": "text/x-python",
   "name": "python",
   "nbconvert_exporter": "python",
   "pygments_lexer": "ipython3",
   "version": "3.8.5"
  }
 },
 "nbformat": 4,
 "nbformat_minor": 4
}
